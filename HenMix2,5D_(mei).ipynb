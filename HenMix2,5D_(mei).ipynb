{
  "cells": [
    {
      "cell_type": "markdown",
      "source": [
        "***Mau Generate Images Haram Kah Manis?***\n",
        "\n",
        "Buat jalanin script ini gak perlu spek yang mumpuni, cukup dengan Potato Pilihan bisa dijalankan dengan lancar karena pinjam layanan berbasis cloud milik Mbah GuGel 🧔"
      ],
      "metadata": {
        "id": "Nwm9OLZAmvPU"
      }
    },
    {
      "cell_type": "markdown",
      "source": [
        "Karena ada issue Banned buat Free Plan di Collab jadi gua rubah dikit script nya"
      ],
      "metadata": {
        "id": "6lcVQh8-eRt4"
      }
    },
    {
      "cell_type": "markdown",
      "source": [
        "# 1. Run Cell dibawah ini biar ga cepat disconnect"
      ],
      "metadata": {
        "id": "cl_vAnC1ULpF"
      }
    },
    {
      "cell_type": "code",
      "source": [
        "#@markdown #Music tapi Silence\n",
        "%%html\n",
        "<b>Tekan Music Playernya</b><br/>\n",
        "<audio src=\"https://henk.tech/colabkobold/silence.m4a\" controls>"
      ],
      "metadata": {
        "id": "XAYaLRprRiOD",
        "cellView": "form"
      },
      "execution_count": null,
      "outputs": []
    },
    {
      "cell_type": "markdown",
      "source": [
        "# 2. Tekan music playernya terus run prosesnya"
      ],
      "metadata": {
        "id": "rM7pqlq1UUus"
      }
    },
    {
      "cell_type": "code",
      "execution_count": null,
      "metadata": {
        "id": "sBbcB4vwj_jm",
        "cellView": "form"
      },
      "outputs": [],
      "source": [
        "#@markdown #Remote.Moe masih eror ga usah di click\n",
        "!curl -Lo fileharam.zip https://github.com/joehart-maverick/sd-webui-main/raw/main/fileharam.zip\n",
        "!unzip /content/fileharam.zip\n",
        "!apt install -qq libunwind8-dev\n",
        "!apt install -qq libcairo2-dev pkg-config python3-dev\n",
        "!dpkg -i *.deb\n",
        "%env LD_PRELOAD=libtcmalloc.so\n",
        "!rm *\n",
        "!pip install --upgrade fastapi==0.90.1\n",
        "!pip install torch==1.13.1+cu116 torchvision==0.14.1+cu116 torchaudio==0.13.1 torchtext==0.14.1 torchdata==0.5.1 --extra-index-url https://download.pytorch.org/whl/cu116 -U\n",
        "!curl -Lo penyefong-ai.zip https://huggingface.co/JoeHart/generate-ai/resolve/main/penyefong-ai.zip\n",
        "!unzip /content/penyefong-ai.zip\n",
        "!git clone https://github.com/joehart-maverick/tunnels /content/sd-webui/extensions/sd-webui-tunnels\n",
        "!git clone https://github.com/Mikubill/sd-webui-controlnet /content/sd-webui/extensions/sd-webui-controlnet\n",
        "!git clone https://github.com/hnmr293/posex /content/sd-webui/extensions/posex\n",
        "!git clone https://github.com/kohya-ss/sd-webui-additional-networks /content/sd-webui/extensions/sd-webui-additional-networks\n",
        "!git clone -b v2.0 https://github.com/camenduru/sd-civitai-browser /content/sd-webui/extensions/sd-civitai-browser\n",
        "\n",
        "!curl -Lo /content/sd-webui/extensions/depth-lib-main.zip https://huggingface.co/JoeHart/generate-ai/resolve/main/depth-lib-main.zip\n",
        "!curl -Lo /content/sd-webui/extensions/tagcomplete-main.zip https://huggingface.co/JoeHart/generate-ai/resolve/main/tagcomplete-main.zip\n",
        "!curl -Lo /content/sd-webui/extensions/tome-master.zip https://huggingface.co/JoeHart/generate-ai/resolve/main/tome-master.zip\n",
        "%cd /content/sd-webui/extensions\n",
        "\n",
        "!unzip /content/sd-webui/extensions/depth-lib-main.zip\n",
        "!unzip /content/sd-webui/extensions/tagcomplete-main.zip\n",
        "!unzip /content/sd-webui/extensions/tome-master.zip\n",
        "\n",
        "%cd /content\n",
        "# Download Model\n",
        "!curl -Lo /content/sd-webui/models/Stable-diffusion/henmix25D_v20.safetensors https://civitai.com/api/download/models/58798\n",
        "\n",
        "# Download Peler ESRGAN\n",
        "!git clone https://huggingface.co/JoeHart/PelerESRGAN /content/sd-webui/models/ESRGAN\n",
        "\n",
        "# Download VAE\n",
        "!curl -Lo /content/sd-webui/models/VAE/vae-ft-mse-840000-ema-pruned.ckpt https://huggingface.co/stabilityai/sd-vae-ft-mse-original/resolve/main/vae-ft-mse-840000-ema-pruned.ckpt\n",
        "!curl -Lo /content/sd-webui/models/VAE/WD-v2.vae.pt https://huggingface.co/vorstcavry/vaecollection/resolve/main/WD-v2.vae.pt\n",
        "!curl -Lo /content/sd-webui/models/VAE/clearvae_main.safetensors https://huggingface.co/vorstcavry/vaecollection/resolve/main/clearvae_main.safetensors\n",
        "!curl -Lo /content/sd-webui/models/VAE/kl-f8-anime.ckpt https://huggingface.co/vorstcavry/vaecollection/resolve/main/kl-f8-anime.ckpt\n",
        "!curl -Lo /content/sd-webui/models/VAE/kl-f8-anime2.ckpt https://huggingface.co/vorstcavry/vaecollection/resolve/main/kl-f8-anime2.ckpt\n",
        "!curl -Lo /content/sd-webui/models/VAE/nai.vae.pt https://huggingface.co/vorstcavry/vaecollection/resolve/main/nai.vae.pt\n",
        "!curl -Lo /content/sd-webui/models/VAE/orangemix.vae.pt https://huggingface.co/vorstcavry/vaecollection/resolve/main/orangemix.vae.pt\n",
        "!curl -Lo /content/sd-webui/models/VAE/pastel-waifu-diffusion.vae.ptt https://huggingface.co/vorstcavry/vaecollection/resolve/main/pastel-waifu-diffusion.vae.pt\n",
        "!curl -Lo /content/sd-webui/models/VAE/vaeextremecolors_v10.pt https://huggingface.co/vorstcavry/vaecollection/resolve/main/vaeextremecolors_v10.pt \n",
        "!curl -Lo /content/sd-webui/models/VAE/blessed2.vae.pt https://huggingface.co/NoCrypt/blessed_vae/blob/main/blessed2.vae.pt\n",
        "\n",
        "# Built In LoRA\n",
        "!mkdir /content/sd-webui/models/Lora\n",
        "!curl -Lo /content/sd-webui/models/Lora/cuteGirlMix.safetensors https://huggingface.co/vorstcavry/lora/resolve/main/cuteGirlMix.safetensors\n",
        "!curl -Lo /content/sd-webui/models/Lora/chilloutmixlora.safetensors https://huggingface.co/vorstcavry/lora/resolve/main/chilloutmixlora.safetensors\n",
        "!curl -Lo /content/sd-webui/models/Lora/japaneseDollLikeness_v15.safetensors https://huggingface.co/vorstcavry/loraasia/resolve/main/japaneseDollLikeness_v15.safetensors\n",
        "!curl -Lo /content/sd-webui/models/Lora/koreanDollLikeness_v20.safetensors https://huggingface.co/vorstcavry/loraasia/resolve/main/koreanDollLikeness_v20.safetensors\n",
        "!curl -Lo /content/sd-webui/models/Lora/taiwanDollLikeness_v15.safetensors https://huggingface.co/vorstcavry/loraasia/resolve/main/taiwanDollLikeness_v15.safetensors\n",
        "!curl -Lo /content/sd-webui/models/Lora/sainzlora.safetensors https://huggingface.co/vorstcavry/saiz/resolve/main/sainzlora.safetensors\n",
        "!curl -Lo /content/sd-webui/models/Lora/imnekolora.safetensors https://huggingface.co/vorstcavry/iimneko/resolve/main/imnekolora.safetensors\n",
        "!curl -Lo /content/sd-webui/models/Lora/povSquattingCowgirlLora_pscowgirl.safetensors https://civitai.com/api/download/models/10490\n",
        "!curl -Lo /content/sd-webui/models/Lora/povPaizuriLora1MB_povpaizuri.safetensors https://civitai.com/api/download/models/14996\n",
        "\n",
        "# Token Merging\n",
        "!git clone https://github.com/dbolya/tomesd /content/sd-webui/models/tomesd\n",
        "%cd /content/sd-webui/models/tomesd\n",
        "!python setup.py build develop\n",
        "\n",
        "# ControlNet\n",
        "!curl -Lo /content/sd-webui/extensions/sd-webui-controlnet/models/control_canny.safetensors https://huggingface.co/webui/ControlNet-modules-safetensors/resolve/main/control_canny-fp16.safetensors\n",
        "!curl -Lo /content/sd-webui/extensions/sd-webui-controlnet/models/control_depth.safetensors https://huggingface.co/webui/ControlNet-modules-safetensors/resolve/main/control_depth-fp16.safetensors\n",
        "\n",
        "# Remove Zip\n",
        "%cd /content/sd-webui/extensions\n",
        "!rm depth-lib-main.zip\n",
        "!rm tagcomplete-main.zip\n",
        "!rm tome-master.zip\n",
        "# Embeddings\n",
        "import shutil\n",
        "shutil.rmtree('/content/sd-webui/embeddings')\n",
        "%cd /content/sd-webui\n",
        "!git checkout 0cc0ee1\n",
        "!git clone https://huggingface.co/JoeHart/embeddings\n",
        "\n",
        "%cd /content/sd-webui\n",
        "# Web UI tunnel\n",
        "!sed -i -e 's/\\\"sd_model_checkpoint\\\"\\,/\\\"sd_model_checkpoint\\,sd_vae\\,CLIP_stop_at_last_layers\\\"\\,/g' /content/sd-webui/modules/shared.py\n",
        "!COMMANDLINE_ARGS=\"--share --disable-safe-unpickle --no-half-vae --xformers --reinstall-xformers --enable-insecure-extension- --gradio-queue --remotemoe --cloudflared --theme dark\" REQS_FILE=\"requirements.txt\" python launch.py\n",
        "# Kalo misal \"--remotemoe\" error diganti / ditambahi aja sama \"--cloudflared\" buat aktifin cloudflare tunnel"
      ]
    },
    {
      "cell_type": "markdown",
      "source": [
        "Tunggu prosesnya sampai muncul Link seperti dibawah ini : \n",
        "\n",
        "![download.png](data:image/png;base64,iVBORw0KGgoAAAANSUhEUgAAA1AAAABOCAIAAAChTWAQAAAAAXNSR0IArs4c6QAAAARnQU1BAACxjwv8YQUAAAAJcEhZcwAADsMAAA7DAcdvqGQAACTnSURBVHhe7Z1PqGXXdacfCUEKBCwyiGUCkQSexJBIE2MnqTYKTSwPHCgZ0mhYBoeoRxZ0JAx+qBqDEYYEjyru9OQZWuDgDGy6KSp40KLBYNOTghpF2KCR5UHbFkYdVeKYOF/d33k/r1p7n33P/fNevXdrfVwee6+z9tprrb3vOeud++/oF0VRFEVRFMVBUwVfURRFURTFgbPPgu973/vepz/96Z/85CdTv8eXvvSlp1Z8/etfn0TzYPDKlSsoP//882OzC/nud7/72c9+9r333pv6Q1BDmSFTfwYcw73lZi8FBMVSkv+pvwlKCKvG2m1nAfZiZCMWLveYvRi5FPD8vfc0fuopntGTaDc2em4uZPlzk3D2Fcgc3tKw5Oy3L9o9SaRLnlZy+GHYzAfAkqfPRhffh4S9n8cWonnXPrn2fkHJBZ9qLG8IssBznme+umMYu7bgE5hdvueWm13LkmeFWZhrnRaXm+3ipyJ4RlmWcJwuuSpNsUudJGvLF6gLzm9dMpqNjGy0qVoWLveYvRgBLEwLGc5E5IFlnaQrxrsu6dvOHiHh+zJLyONwtmD5c3MQyI77ymBnboozpd2TuHGeBd/y85iRz7ucxM6fNs/nyfKnD6u/y35muJYS1i6QciLlB7L5F7LH89hCmJGcrN0tg01F5reoi3LBh+mrV6/euHGDNraYbLnR5R5stOe2C6zL8mcFnNsTOO42puPkSLCaXVkiAzy1lntiI1N/Q5h0eZbmYPbltdocGxnZaFO17GW5975n4jZIEK+3TRfydnx8vOM6jolbd0dI2u67bmsGgSDfZV+JvW+M5Ww9Nc++3Qu+uIGXn8fQZ9TuJ5Dz5AEuMTAvsy95+uy4nxm+PEYm0lzaS7vMe6bg2L7OY/tlsKl4amxRF3UKPi4SBI8h2jdv3vSzTk/XtlpHTUJwnSFHJWxTiWT52reBaffIeNzl0ZOYI+aapEF/zsNoHKKdFltOFrRISlf0sEvMhoNluJMJ6MQpxkSDMcxocA4UuufZmFsbR9m5Su517UR9pSWpRc+ha8Q59/+Xlhg7Y7etPIcSxYaXhzFX0e0YZpuTgRHAAdyIAS4h5UR0M5PgaLfg23RLDMCxtO6KUcbnckV7ks48N1swS7zRVYxY30ZiOBYOPAQNUSAgoTyMvgmbYoiWGAZuG+nHwLUKSDRp3J9xXg1hOMr8H47k5OSE9tr9HD0E2XHsMVHQ3RLRZw2MkeLkWh+A4XGuVY7vW44WbF69epWBcYd3PdwCzMoIEAKSwUJYOQqjJ06IxkZkHLpGujCEJSY64BzCEOeq3RIiyu1M9LDNNhL7ZhAuzCqa0YHlMBDU1taSh3Z7U7oLgWXaeEi2o5yQAQekn0LQoamz6kavUjfBQBSmTthOtGOY1rGw3Q92TzBE1tIFJZoV0RSjJmkTJnQKPgVA46tf/er3v/99Pes0RwxDAXCIJ6cm469PyhgBGvLY0QpNMXXWEc1CNKi2JkIBh1cq951lUht9RtFeOZg9bNsKeQz6MiWYixk1qdpjIxzV2sRwok3aKNjzMSldybe1xBQZhN2zFQnXRG2YSOL5GqSj3JqkhqtRoTVCm92vNprR1TQWUPbmxDetiA61KPkKU21b64bZ+gYDI4CQQ8nJMd1ZACNrl5VR3YJvydiFJFMpP15u2hs9N1vQSXmwfjTCdMlI8jAuCgO9q5HwFJM8GWn3FXSFXbTo986+p8hbeUJXdjAINFJO5CFdhCggYQh/aQ8ciGGqzRAdAgySTE0h0NTsEU3KQIUQLQBDnL0B0TJtnI+5bbHnzB5XvOvhphBC6/PcQqDWPXtw/pEwJtndlKU5I10whXt37tzBDtDQMsWBMYQkZ4gS6xCSh4JDSQIIx74ZNJlr6mzCPZ9OV5BG68OmdBeCEAhEsUQ5f73EMW8CuX2DuGrdHEbSWOkzRetVzBuS9oQW3ZZNtbXiyRMk6VkMXWEkF3zynmFcKnSdk1vImYwppYZz6saV82TAUf5KbmV1IY5aS4rBeVG3GyFdua0cOdH2BIWuh9HVNHaAkjZ1mrVcEixDCMo7EmST2XWK9JNfRwek6WinzT1G806dFcpDtNklzZuSABx1bs04V62RCPKYkzQW6FqydjWTAgNTHoRnYV4Sa/tioZElMJalh9bCOC0GBc4UMhL3AJY32hIDUoB04xKTh8GKp1x1lQ1yzkiMAi26p+avjbSZSR5yyKdylMmDxkY1T6Euco6qbRAOvG2JcwmF70kV/o9//GP+xuk0u+NylrpeGavR1kRx6hQgYKrdEvL55OSEXRSHbwSWcZXhbELcWHses+cOWfKuhxuhPLRJkzwtBEI0rdzmUKDggV2dJUaMrFlNy/T222/TtRHQ0idrNOgiJEU0nCjL1QUNnzqbw3CdUmC5HdxwnQoYSV7tiFJHo902krsBSQfiUUFX0WkVBhuP0DRWQ2wc4v/baYrWB45aAWXlB2h4laMRxraOIRw/W/sFn6ehofNscpdDcgghhyS0B5p12hQr0urGUWtJgXlqdeNRzE7znd7kdCBS9tg5D6PxNHZASk5ay7XBMoW8ZSAnNTnAEHslHbcHYMTXM+O0LMk5yjB1Vsirbh4QyrKI9lMSoLUM41y1RrQo03z31zFpLCCZ9E4ZrGZabkzZ27kwcUy7yG4MjGwNRtLSt5K1MCTlKsWyHSnA1CUP9tMzwvi5qW4LFtDh33oaDGcukJHJ7goZn8Y0LpEB8oCQNtack6jGcJ9SALn0I3FehzBA80bNFL5ohZqd4XoicEhZ6nplrEa7tZkCFBhUODYrn5HEnbMpWMOCnYmOtTjM1BathxuhcGIeRJsf4emMdHApXjtQk37XzpyRLsSFvu1omVTwxVHooJmmo0EXYXIPJJcaaPjU2QHlc4kpuRRDkPNyL8o3orsQadvgnsJXbiVsd0I8KpxPDsEk7cFc1Eg/+MEPsKB7ZAzkLxYmz06JUyQ/gVn0RFNyNKnadhWhjTAWC+irazyv/J+kp3QKPs0kPB/CON5dpre+PZhzxcRRa0nWcCaegNzFoOX8VTZTvmjI7UGyHGYaO4CpB2s5DlazWIGx2osQw0xTzIHOnJosDzwR7URzeSDA+DRmVDSekgDdEMa5ao2g4AVCHhcxjYVWMiCFaW/HYQokWqw5I7uQwqShHaLuQpIRIVPLU9SSAqTr1YldGt7M/NWaplzRiGNbMHJycsJ0aKrso5GMtCQPpa8TInhgVFu7ryJpe8yhVEe1rucSejp3nTT0kSAfe2U12u1E3c0g5Kcs22fmsrVNYbiXHrAclyOB8rQwgaQfPdyINg9iTt7NcJo9htO10zUyh6zZjpYp3eHTUbppOhp0EQ4WV2zk0pglpvQEmVPT0Tb5a5lbCOR6piS5G5B0IB4V0rlz545ueE3SHmiSec5IGKHgIxbd2POKTHr30/qA/rTjQ62WVjn6ydi1C906sLTgw7oXhjl0IqCNsoxKCDQ0KmUwwqE4y5gUmCbScE2ktj2hjX28VTZpAw2FIB0NlDyCju+QcZTUO9cDmDqawsO4lhwaBJs8YTp5rjAlVzt60vUtOt+iiQaeCGw6jYZRWtmpvyJOxyj8icZTEoB2+9yOoTF8rRECV04UTvSKgclzzHobrEUG7R7WNBHDB2EK5PJkzohQBtrhY1YR/9JIG6ZAZ267yqtoREge/VGAreYc3QDlQ1pZ+4y+F4W2hmtgNy6DkRs3buh/aE6pKMsI8nZzmuQh/nRniWqYjSec6HxLDHNAq6bktwNjOBxVG/REsP94i6aGtKA5OI+lACPySpZRkM8SxjQCOkueXDKisTaoQ9D6Zhzy1D8leigGRhIxt2ZuIZC0AcYQOIRCTAvt2IWukTlwj+H2h1Fapug2crc9nTxhFGM1XPIuHIrZEwjbzIxpQ8NIu9PQaaczMZ+iNdIlDtQsChm5t43k0lFuaQAN5UpdiEcNQp5E+saSAcyINf4XZTrZkSl5OBd79BO0am3USR79jBnognIKE3LBh7noYpxP6WMxwDpSQKLM0saPKBfSl4uTaEWcq4Wjk94Kxsp4tJPil5BFcjYt5y8eqvpG3vUQPCkNjA8SmiyAVzquZUppS/ScNHpglCc3sJmEcsbZEMnDdLSLJm2jjmvhcOQGMAuJlZyxEooYUdxCDNFCWB9rMDYSLfAc0wnxnun7g8WOhNEOcVm5RcMdOG7YCA1ZmAvT7g2MgJzX8DHoTKbvXzVZsP2InIyHohFPOt4SWn0UtDRzJCNgO3GBPGncyUuem12UcAXIdHE1Y6Ryfs7DVi6DWIghjPdVDAcc5gANiasjs1FiHI73FcOVNPQVIJ6M57URheYwJRTKYcqJ8xB9Vlv6OoopuzdGY2U8xctcrVAwyvtkzkPBcITjbJiYAQ0ZLIQsC8duC0jYzNGZGKn96RrpwhCs2Z+4Dz1pzLmn4y/640tb9E3YQ2DesW8iGmn129WUxMj55El0A5SuJOzinGDNC5GM2xkrA8npJgpkROAqDsdwusiIbGqIne86owCNFzTJZVDGYxTRQw+xkRhmu0CQC76iYNNot0394qFB55d4TjkwOEXGvU23e1osLhELL8zFpWDH1eS57P8TIqlUWgJG4j9+Z0oq7NR14bhHquArMme324qLjP47POBqD9I/MwQbu8XlQmcqNm1VewfAXlZzXwXfOV8EcZv/PB342f0PUwVf0WHuaVMUlxpfVERVe0VxSOxe8PkUcc7/+lLe6aQkzuh/mCr4iqIoiqIoDpwq+IqiKIqiKA6cKviKoiiKoigOnCr4iqIoiqIoDpwHUPDpEygX9sOAOKZ3Te79Ezr6JA6W/a05l4L33vu3v/iLf/r2t/916p87//iPP3/hhf//ox/929Q/BZdwDPemflEURVEUM+SCL32K7SzKsgte8AncO6OPZC/8ACyzx48Quhs/yxMLx7P7XO2g4Js7NFeibccXvnD39df/Zeqc0k7NdM89924qAVE4OvoJj6ef/ileIdFACdOhOWRZyq0niWgfzyfpEGyi3M1wBCdxVZb1cLCyoEfyEB8ktzNbeFgURVFcdvoFnz4SrDtSZ1T3XHAucsFnOUJ/bex+C75bt249+eSTR8XBwbI+//x/V52nQnZtCVsURVEcAKOCT23VPamecD2Eptq65yQhA4+PjzmkVzBdlADKUVN0jQjri3ioxRZAIUgItmP5GPkzdVbYQnpBFoOSg4cQr2IHBkooFlZmmFpb8NFeUvDJmeTGmKr2Dphf+ZVHfUeTai/dEy2KoigOklHBR/VAcaN2qidcD6ncUTHh+kNGVBip3RZPUdI1EtsyMi5Z0kCXZUyEcU3HX1dLY5KHcSDt7kQR/cQ7Df6ijJrkgGRfBR9Ouj0wKx/G2Uu89tprU3VQHBwf+tBnVOF9e/V693PPvbuvF9+LoiiKC8voPXyxlEn1hOuhWH9YR0Zc5aCZqo1UTnWN0EbNA1MBlNCM0aaniLNjFuNMoe4ADwcVTA7H0bWTdommIGVyDobEeN1lXq0OOC5YaHYL9JYvigN1X3/9X9K7wXTowF4FJpaTkxPiUryqjQj29u3R2xNRk87TT/+UQurNN+8pj98gCHpp1RleC/rJrN+Wl5bGxRzG9VbF7TwsiqIoLjuzd/hSNZPqCRcx3VrNRla62xd86OheWnKmJc0IniLOjlmMY1DdAdHDFLvnQp7u3hmEU1G2InqerM3BEOckdp0rGkqOFBaa3YKFBd9hVHuu8wzxqtQjWLoqmNRu4Wi8Z0YhteTDK5sWfOl1WGahemO4lkOzx6UBd7fzsCiKorjsjF7SjSVFqidcD7n+oG2daATQdMklYjkFXSOSTxXTul+91Iy2GbtxdsxiXBGNSQVfLOzcTWEaZvFL4ZCCjQEOYHgM2VFYrtmjk0vMbkEqHeYKvsv+KnBb6gmic3kEMfwW6qePf/xd3zBjLPkhS+rOsVHB1yrjT1oRnJRcDcsZtZ2HRVEUxWVngw9tuOhBQgUmeaxLXHNEI+BixaQaaImRtWDQ5Smj3I6zY3aLgg/o2kPkse2JDLNcvXpVtReeOFfCAU79GaIRhjj5MVcxzIFZDU9LsJxY1UGqeGK1YboVTBxII9YZ1B9PP/1TVycCnSSB5EwC/VS+YCSWaybVPUaeRCOKRZ53i62j8I0qck/D1Y4hoBZfdTXddEHX+W6Mlsh/meKvh7s99rAoiqI4VEYFH9DwO/lor+613XvrGKiIifWHa45kBE1VG6o8ZEQMjEg+6a2wzhxYk2Z896FnB4Tjgm/OQ8CIJK6xhCeFVhmfj4+PJU/hdD/tEYn6thxzpTx3c5vef3l2BZ+KFeoYHm1xw4P6Q3UVRyXh4QJFqEyJwzHbfW8ZkvYlSHlo47Yvs1Euz6XfFl6gIcm9GKPzIDCShNGZVEspJ3FeZ8mPaArNVPDJveRDCj8edc6jnYGHRVEUxaGSC76LQ6oa1XXdU1w6qC26NVaXOWWEVaMURVEUxaZc3IJP96Vc8H3v/jfGFefGb/zGO7obtMsDO67h0qF6PPDHJz/57mqpi6IoioPl4hZ8EF/ThKr2LjUb3eEriqIoimKPXOiCryiKoiiKotidKviKoiiKoigOnCr4iqIoiqIoDpwq+IqiKIqiKA6cKviKoiiKoigOnAdQ8OkLVrb+HuCLQ/qmwIi/eLn94kAkl+sTx/qe3vRlv2Peeuutk5OTa9euHcYP7Ba7M/fLdedD+vpGfX/1Lp8ZZ6y+0ab9VkgkyDd6vhRFUZwDueBTEaNiBc6iLHsYCj5BjPst+NK3T8euzIr4WyBMhA6a6m7BoODzoarwigU8MlcknTV7L/hEMiuq4CuK4mLSL/hUjuirj9uSpRDbFXy7MC74XEPTcJF3FgXfO++8c/369artik1h81BsdX/F+EzpVma7c0Zmi6IozoJRwRfrCYq/+Nv8LmXQVFv3liRk4PHxMYf0667xhhPKUVN0jQjri3ioxRZAIUgItmN5F/xU+FeuXEHZpZIsSIck6Ad5lZ+bN2+2YQoFNXVOC2g04w/dCh8CT9oSVyR1o4e0bYRY5gzqVmv0sIsKvm9+82er35P9+1//9d+Zrt4jHjk6+o9HR68eHX3r6fBbujy4Ruo2jyvI+Eu1TMR0kgP6Hp7oXmsx1f0FXkDoH+GNY5M81rUmeoiOhFhAWYfiKKVLyjw0EcKXX36v61jUj79426VrfL/1d/vaq2L81rd+xtRtflIGYq5effWda9euTXZXSGFujQxHWXeHqbRopd588+eyH7cKeZBm3C3dXIF3oCXC8rkt1xI3Ejj2aKGbH3Wt3zpTFEWxd0YFnwoCtalI5go+ahSVGrRV9MiIyppYlJhUCXWNxLaMuKDpkga6qGIijGs6/s5VP4LhGImTeqBnx2ws+DwRCslDuhoeYWDMJGjSVrMlJbProYT2hFTQRahuBB+WF3y6hr3//Y9Pl+6i2JA/+IP/xHaiSIq1Wov2mwogCiMXT/ylrW4sm+jy38i9kavKz8aZiIfkqTKDJIkDaWOcKXRoQGsWGJgq2ugJcv2DEcOM4RRFUZwR/YLv3o2m+29EpTLFpUysJ6wjIxxa6d5XLYlUCXWN0EbNA9GfK1xAM0abniLOjlnVauq2pDA9tmskhUlDlaK6YB8iaQpAZxBaJIUZu/zVqkGcNOZ2O3Rl4mp069at6dJdFJvzmc/8+CjcIp2Dksiv+abCjmrPVVG32HI55YbkrXKUpHrLG17dAV0fsJYKvugM+hqC8OWXeV5OHiJcm5miKIpdmL3Dl2qLVKa4lOnWajay0r2vWhKpEuoaoY1Oe7OtS5oRPEWc3bWaui0pTMbKsa6RNGlrPIUp0hSAmo2PSXmIXXtIQz6vVPZZ8D3+eN3eK7aHLaS9NL5/pvJLVRFDrJxqOCObemGUh/Q3Lfhiibb3gs8GafiVfbr2WY8q+IqiOFNGL+ny17esUplCbaE6I9YT1olGwLWI8XDRNSL5dM9q+M420Iy2Gbtx9rYmS6QwPbZrJIUZoxApTJGmgGh8LdFmdMBGsM+qDbxazu3bt1966aUnnqgPZxR7QJtK1U9bJ5lUwLnwmiv4qJPQZxRt6yTltQVfvMOXugMWFnyAGsoIfVcP+3a7KIriHBgVfGqrvIhlBBIqMMljPeFSJhoB1yImVUJLjKwFgy5PGeV2nN21mrotnp02f6+cvoURI/IQBSzLePRQ7RgUpDBFnELEidZiT2jPhZl03E5o3tZDuHXrVn0It9gvrsniK7Mq7/xGPZirhFINZyikeNCQKd3hi0UbxRaF46DgA7qeFHl0QA53XUpGRLfgo0up97d/+88OXB62w4uiKM6IUcEHNPxOPtq62UZh4VIm1hMuZZIR1yKqlmREDIxIPumtmCtcDNakGd996NkB4dqCL3roEBQREizfvHlTRiwUigUGYU79FdFJGnQlXxsm4UhzLkw50J00GtekdjvyzDPPTFfpotgb+aYdqEqLBZ8kVrb+XMGngkyaVFTWYZSEKstUWqnMklwPl1yoSaKSUUKQ/VjwzRnxjHrEoAD7yXKyE9NSFEWxd3LBd3FQOZVKrm51skcoldLtt4eTz33uc9M1ungoefLJJ7/yla9Mu2E3JounL+muhbonVld0U51UFEVRbMHFLfh0m8oFn25HuXtGVMEXee2116ZrdVHsgV/e/Zp7sOtev/8VVb/YmjQP8vGXfzm6tV8URbELF7fgg/Ry5FlXe1AF31ru3r2bvk23KJYwbaB1pJd0Y/FXFEVRbM2FLviKojh/zqKmf/HFFyfrRVEUxYOgCr6iKIqiKIoDpwq+oiiKoiiKA6cKvqIoLgQH/+2PRPfaa69N0RZFUZwvD6Dg0+dt/aVxl5f0xTERf1Ve+z0ySM7nAyi7cHgfXiEWfXvi1F8HK+i1Y+zx8fH4yxHH/Kj3ZbznSfquE9P96uCt2TrMh+qLvhXyA98SEfaAPiLDfphEe0LfNVhfMUgGSO+SPChjD/azSvrgVK3a4ZELPhUxKlbgLMqyh6HgE7FoMLsUfOnLCGNXZsXzpz+/AUyEzkbFSprlMNil4AO6MHU2Z3B1R+jvCo7MlWhd6pdRiqI4YPb4zaC7MHe6viz0Cz6VI1wd/YMNRUvMVZdUNOxOKsVil7+uSGgg5yjtLQo+TG065OKzY8GnVG9XpsO44PvUp37wyivXq2IriqIY8MDfEXHIBZ/auuxxpYyv8flyiKbaurckIQOPj485pF8YizecUI6aomtEWF/EQy22AL42IwTbsbwLfir8K6sfOnPdIwvScemg/Ny8ebMNUyioqXNaQKOJcWdS+BB40pa4IqkbPaRtI8QyMNiCJ3GhhQIBeegcRrc5KiHIMcljWrwKzgCjbty4gQ6QSQ6hw3D2z8nJiboaFRf0nolgWfooIIlyQChliPLWCES3IUYE3UyiE1ez7rQVRVGcGY+MX/fwi9H6pcT484Z+34J/uQe1l19+D33UvvnNn8VfUGQUXenrfQ4MiT+EyGNsvAvG9ZvaaGJWTuKGjqrLI1pWRJLLk10YFXxcxriYqc1Fca7g49JIV21dPmVEF0K107XTw0XXSGzLiBTmSANjSeGLN3/ba3aE4RiJk3qgZ8dsLPg8EQrJQ7oaHmFgqqg0aavZkpLZ9VBCe0Iq6CJUdy1dfax5gZhICuDZFQJjaUtuB4wHqq0k0yCBd+7c4RDQIDlvv/22uxxFB2QwrjJCdFaO3Jux3W90r169qlTzV6s2Z4Q2U9htGjJi0E8LB+h4A0BVexeZj370ox/+8J8fHf310dG3dALlEd/COPj3Xad7n5oNp+D2TZBJWRcDqfFXFxXp6PIQ9fHh4x9/V6d7JFKQnGsSDbAR2rps0ECB64Qn9ViUfZ2wUFeRdP2ImiAdua22jZvoSTd7Di25ZxjLJVDxRhiIZVnT7LoKRq8cjtpSuHv37htvvPHii1/84Af/7IknLv7z8XfYkCktr7zyvx577Inp+MPHo48+yj70viI5f/In/++RRx7V0Y985AuSd9H28NMNO9rScat40yJEk7/ocPTNN+9tYLaQNy3KassacLTd5F3jOpSQezxu3773dECZhzyMA2nboEPQWA7R3prRe/jilSxd7Xw5jPWBdWREl39A09dRka6mXSO0UfNA9K3TohmjTU8RZ8esr/pdUpge2zWSwoxlhLAPkTQFoDMILZLCjF3+atUgThpzuwTGOlKDxEYcPo34UQYPbPMAdBE6V/Kcrka5K+Mq+NxlrI3z10acSQ+XPCrTltCmJG+NRAWIY0WapcsZ/RgddeSLL774D//wv3nC6zT0ta997QMf6FwSpMkFT/6ATygRnTtkyqCms0n3pIawvWCjo1Nk28XDJ554enJrK55d8ad/+vIf//HnsUZQb731Vpox0XreDR+hz62RdrjBSDtkTh+JLxgQffAQHjEQJ5+/akB3mSAa8UTxehAHxtlpvPrqO2Ty1q1bn/rU8TPP/JePfUxpvsfv/u7Hnnpq6j/Af12Y+uTkBFcdeMqDIpLwi1/8vy+99JK9/bVfm8qCy8UHPvBfvRPY5O973/unAw8rrLUqHi89q6xDv/qrjyJUrlqk7w3PQLoI43byUy8eZVNZTlty6VuNtp96OiS6xtVNyD2UbUebmUY8Y1gNOQ1PFz3Zjtk7fGr4mufrorq+HKKJGsq0116ATbqado3QRkelQ3KmJc0IniLOni7qLSlMxsqxrpE0aWs8hSnSFICajY9JeYhde0hDPq9UNi74us4gaQPB8lRgnqKByQGRopbnWJDb7iqHcwWf1KbJVsS7eujLuJRpRLdtas6IFaQfx5qusMs3vvGNZ555RmeotfzhH37VT+klA7m88U/w1Nk3TzzxJBd+Hrrwiz/6o2d/8zf/QxICkg9+8M8+//nr4q/+6m8+8pH/9tu/Xbc5i6LYEv5lpQbiwfnQpc/du3enw0dHg4rH+lN/hYS6o6+Hbga7fmoLPs0uYpnVFnxzxqfD92P32oIvlolRDWvRuD3ZjtFLuvz1rZp0wfaVDx30GUXbOnMXYJMunF0jkk/X5OE720Az2mbsxtnTRb0lhemxXSMpzBiFSGGKNAVE42uJNqMDNoL9eC+t9WpM15luIHOWu/LklbuazoEot+OCz0ZMkjuE6PbcqhkrqNuGPDdwzKb3/Cjm+F/2hz/8Ic/25577u9///aVVY1EUxVnwvve9/8Mf/vM33ngjFTeco6bT3Old7VgnSWIdd1Nxo2KLRixudHsPoUsf2pM32xZ8SQhIVD+1BZ/kUotdjnYLvtZ4Fyvbjgu+bq7a6XZkgw9t+IKNhApMciTooCkdlTLp0oimLsAmXU2XGFkLBl2eMsrtOHu6qLd4dtr8vXL6FkaMyEMUsCzj0UO1Y1DQFg0QpxBxorXYE9pzYSYdt5fQ1Z8LhNmXyzFiy/aQBnIadJlaCzR4SZeGQzYerm5U1ixyyQO7RqQjIyh4hxsU0sIBOvGdD3NMJ6oVn/jEJx7mN+gURVHsgksx1YixOJsrv6irXEQa1DQ2FXwyKyNzpZi6omtcoEn96jp4ruDjEH8dCEK1pe/huzMq+ICGr2e0V/fapg9O6nKIUNdU2r4izl2AdU2VETEwIvmkt8I6c2BNmvEa7NkBoQoIdVuShw5BESHB8s2bN2XEQqFYYBDm1F8RnaRBV/K1YRKONOfClAPdSdca11gHLrzcibl0RTkNupLbcwvltjLJcC3QoODTEBkBhePhVpCy5KiRKI7StietEYToSKJ4QcpCFqRp0ImrMIffcVwURVHsgqoiWF7wAVWUbh/y0BDU1EgFH8qyLGUOyYJglOQoSBla45JLeUnBBzRkIZaPGiI5j+TMpuSC7+KQruLqpmvw3qEgcLn50EKS28rmISftxk05ow9zFEVRPFR86EOfcTlVbMrFLfioveKtJoow3adR94yogg/Op7a+XHxpxdTZkNu3f376/9n/OTr6z6svYjg7rhwd/Y+jo9+betuDk58+Ovqf/s9yvw/Swr+wenGkquGiOIUnXX6yLH/wtOIJFe8PvX76amPS3OIha/H21RdOX4VMmls8dB/Lt690clDXOrSJbl8zXt7HtWv/tErSNlzcgg8o7/QSmzjrag+q4BOVhwh52PG3dBO3b9+O3yWxO48//nj6Nhaz0eeF5/BHSSaje0Kvd/hBdzpwOfErMvG1nt25devWY489Nq3EiN/7rd/65CuvXGfF2WAM/M53vsOW+PKXv3z9+vUXXnjh2Wef7X6Vj2CJ9cnrlkljQ+b25FtvvXVycnLt2rU97v/z5OrVq1MkPTZ6aqNGKqaR+8P7kEcs/nZHZZmNx+Jvd+KrqDy6r1264Jv6xYZc6IKvKIrzYfmFCp2zKP6KloU/3EI5OJVmp0wHzgs5QCVEZUl9SZGnitMczC/QUDffvfvLd9C/8847hLwwNNTOorwriuVUwVcURWbv9yCL4iGkirziQlEFX1EUa9jL68JFcfAM3lxRFA+cKviKotiAKv6KwtQ9vOISUQVfURRFURTFgVMFX1EURVEUxYFTBV9RFEVRFMWBUwVfURRFURTFgVMFX1EURVEUxYFTBV9RFEVRFMWBUwVfURRFURTFQfOLX/w77qA+Y/CRTc8AAAAASUVORK5CYII=)\n",
        "\n",
        "Kemudian pilih salah satu saja"
      ],
      "metadata": {
        "id": "yq3GgeScyr6e"
      }
    },
    {
      "cell_type": "markdown",
      "source": [
        "**Mau file haram yang lain? Langsung aja gass:**   [**@JoeHart**](https://github.com/joehart-maverick/portable)\n",
        "\n",
        "**Atau mau liat generate imagesku :** **[@Maverick](https://www.instagram.com/joehart_maverick)**"
      ],
      "metadata": {
        "id": "RObg78g69j9l"
      }
    }
  ],
  "metadata": {
    "accelerator": "GPU",
    "colab": {
      "provenance": []
    },
    "gpuClass": "standard",
    "kernelspec": {
      "display_name": "Python 3",
      "name": "python3"
    },
    "language_info": {
      "name": "python"
    }
  },
  "nbformat": 4,
  "nbformat_minor": 0
}